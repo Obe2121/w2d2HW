{
 "cells": [
  {
   "cell_type": "markdown",
   "metadata": {
    "id": "YJ-J_Wo8oWlK"
   },
   "source": [
    "# Functions, Scoping, Data Collections 1 & List Comprehensions"
   ]
  },
  {
   "cell_type": "markdown",
   "metadata": {
    "id": "bgnL2NE8oWlO"
   },
   "source": [
    "## Tasks Today:\n",
    "\n",
    "<i>Monday Additions (or, and ... if statements)</i>\n",
    "\n",
    "1) String Manipulation <br>\n",
    " &nbsp;&nbsp;&nbsp;&nbsp; a) strip() <br>\n",
    " &nbsp;&nbsp;&nbsp;&nbsp; b) title() <br>\n",
    "2) Working With Lists <br>\n",
    " &nbsp;&nbsp;&nbsp;&nbsp; a) min() <br>\n",
    " &nbsp;&nbsp;&nbsp;&nbsp; b) max() <br>\n",
    " &nbsp;&nbsp;&nbsp;&nbsp; c) sum() <br>\n",
    " &nbsp;&nbsp;&nbsp;&nbsp; d) sort() <br>\n",
    " &nbsp;&nbsp;&nbsp;&nbsp; e) Copying a List <br>\n",
    " &nbsp;&nbsp;&nbsp;&nbsp; f) 'in' keyword <br>\n",
    " &nbsp;&nbsp;&nbsp;&nbsp; g) 'not in' keyword <br>\n",
    " &nbsp;&nbsp;&nbsp;&nbsp; i) Checking an Empty List <br>\n",
    " &nbsp;&nbsp;&nbsp;&nbsp; j) Removing Instances with a Loop <br>\n",
    "3) List Comprehensions <br>\n",
    "4) Tuples <br>\n",
    " &nbsp;&nbsp;&nbsp;&nbsp; a) sorted() <br>\n",
    "5) Functions <br>\n",
    " &nbsp;&nbsp;&nbsp;&nbsp; a) User-Defined vs. Built-In Functions <br>\n",
    " &nbsp;&nbsp;&nbsp;&nbsp; b) Accepting Parameters <br>\n",
    " &nbsp;&nbsp;&nbsp;&nbsp; c) Default Parameters <br>\n",
    " &nbsp;&nbsp;&nbsp;&nbsp; d) Making an Argument Optional <br>\n",
    " &nbsp;&nbsp;&nbsp;&nbsp; e) Keyword Arguments <br>\n",
    " &nbsp;&nbsp;&nbsp;&nbsp; f) Returning Values <br>\n",
    " &nbsp;&nbsp;&nbsp;&nbsp; g) *args <br>\n",
    " &nbsp;&nbsp;&nbsp;&nbsp; h) Docstring <br>\n",
    " &nbsp;&nbsp;&nbsp;&nbsp; i) Using a User Function in a Loop <br>\n",
    "6) Scope"
   ]
  },
  {
   "cell_type": "markdown",
   "metadata": {
    "id": "iYMm13F2oWlP"
   },
   "source": [
    "### Monday Refreshers"
   ]
  },
  {
   "cell_type": "markdown",
   "metadata": {
    "id": "HSnelyADoWlQ"
   },
   "source": [
    "##### Using 'or' in if statements"
   ]
  },
  {
   "cell_type": "code",
   "execution_count": null,
   "metadata": {
    "id": "ZYQaZRFmoWlQ"
   },
   "outputs": [],
   "source": []
  },
  {
   "cell_type": "markdown",
   "metadata": {
    "id": "IMLZtyAzoWlR"
   },
   "source": [
    "##### Using 'and' in if statements"
   ]
  },
  {
   "cell_type": "code",
   "execution_count": null,
   "metadata": {
    "id": "Vl0QlJScoWlR"
   },
   "outputs": [],
   "source": []
  },
  {
   "cell_type": "markdown",
   "metadata": {
    "id": "Rjhpsov3oWlS"
   },
   "source": [
    "##### Using both 'or' and 'and' in if statements"
   ]
  },
  {
   "cell_type": "code",
   "execution_count": null,
   "metadata": {
    "id": "zKLtmgtDoWlS"
   },
   "outputs": [],
   "source": []
  },
  {
   "cell_type": "markdown",
   "metadata": {
    "id": "b3JACUeZoWlT"
   },
   "source": [
    "### String Manipulation"
   ]
  },
  {
   "cell_type": "markdown",
   "metadata": {
    "id": "Fh2fU4mroWlT"
   },
   "source": [
    "##### .lstrip()"
   ]
  },
  {
   "cell_type": "code",
   "execution_count": null,
   "metadata": {
    "id": "lOoDQkttoWlU",
    "outputId": "ea5e61f1-fbae-4222-a5c7-ea9eb3267cd9"
   },
   "outputs": [
    {
     "data": {
      "text/plain": [
       "'ustin'"
      ]
     },
     "execution_count": 9,
     "metadata": {},
     "output_type": "execute_result"
    }
   ],
   "source": [
    "# str.lstrip()\n",
    "# help(str.lstrip)\n",
    "\n",
    "name = \"   Austin\"\n",
    "name.lstrip()\n",
    "\n",
    "name = \"   Austin\"\n",
    "name.lstrip(\"A \")"
   ]
  },
  {
   "cell_type": "markdown",
   "metadata": {
    "id": "DdZSEIM_oWlW"
   },
   "source": [
    "##### .rstrip()"
   ]
  },
  {
   "cell_type": "code",
   "execution_count": null,
   "metadata": {
    "id": "Ojs7ebZVoWlW"
   },
   "outputs": [],
   "source": [
    "name = \"   Parri\""
   ]
  },
  {
   "cell_type": "code",
   "execution_count": null,
   "metadata": {
    "id": "ltL94aSGoWlW",
    "outputId": "45c75262-842a-4b44-fc49-0c10f9cc04c2"
   },
   "outputs": [
    {
     "data": {
      "text/plain": [
       "'   Pa'"
      ]
     },
     "execution_count": 33,
     "metadata": {},
     "output_type": "execute_result"
    }
   ],
   "source": [
    "name.rstrip(\"i r\")"
   ]
  },
  {
   "cell_type": "markdown",
   "metadata": {
    "id": "mZHfPK00oWlX"
   },
   "source": [
    "##### .strip()"
   ]
  },
  {
   "cell_type": "code",
   "execution_count": null,
   "metadata": {
    "id": "BBZPNg_IoWlX"
   },
   "outputs": [],
   "source": [
    "name = \"  Jesus  \""
   ]
  },
  {
   "cell_type": "code",
   "execution_count": null,
   "metadata": {
    "id": "w0YFgSEJoWlX",
    "outputId": "75ded28c-3128-457d-a021-858709f9c6eb",
    "scrolled": true
   },
   "outputs": [
    {
     "data": {
      "text/plain": [
       "'Jesus'"
      ]
     },
     "execution_count": 35,
     "metadata": {},
     "output_type": "execute_result"
    }
   ],
   "source": [
    "name.strip()"
   ]
  },
  {
   "cell_type": "code",
   "execution_count": null,
   "metadata": {
    "id": "lk-xGUd5oWlY",
    "outputId": "1f5b09a8-7156-4b03-ed01-3eeda44ead41"
   },
   "outputs": [
    {
     "data": {
      "text/plain": [
       "'cerc'"
      ]
     },
     "execution_count": 37,
     "metadata": {},
     "output_type": "execute_result"
    }
   ],
   "source": [
    "word = \"racercar\"\n",
    "word.strip(\"r at\")"
   ]
  },
  {
   "cell_type": "markdown",
   "metadata": {
    "id": "KIWtrWYwoWlY"
   },
   "source": [
    "##### .title()"
   ]
  },
  {
   "cell_type": "code",
   "execution_count": null,
   "metadata": {
    "id": "q4qs-6uEoWlY"
   },
   "outputs": [],
   "source": [
    "my_string = \"i P frEely\""
   ]
  },
  {
   "cell_type": "code",
   "execution_count": null,
   "metadata": {
    "id": "233cP3kXoWlY",
    "outputId": "76a900c0-90a4-40cd-cf40-d9a800466594"
   },
   "outputs": [
    {
     "name": "stdout",
     "output_type": "stream",
     "text": [
      "I P Freely\n"
     ]
    }
   ],
   "source": [
    "my_string = my_string.title()\n",
    "print(my_string)"
   ]
  },
  {
   "cell_type": "code",
   "execution_count": null,
   "metadata": {
    "id": "6qqfUk4qoWlZ",
    "outputId": "c20c6384-b02e-4bb1-8416-c414daa167d1"
   },
   "outputs": [
    {
     "data": {
      "text/plain": [
       "'I P FREELY'"
      ]
     },
     "execution_count": 45,
     "metadata": {},
     "output_type": "execute_result"
    }
   ],
   "source": [
    "my_string.upper()"
   ]
  },
  {
   "cell_type": "code",
   "execution_count": null,
   "metadata": {
    "id": "C9oitrF6oWlZ",
    "outputId": "f938cfec-343d-470a-b20a-813cffcd658e"
   },
   "outputs": [
    {
     "data": {
      "text/plain": [
       "'i p freely'"
      ]
     },
     "execution_count": 46,
     "metadata": {},
     "output_type": "execute_result"
    }
   ],
   "source": [
    "my_string.lower()"
   ]
  },
  {
   "cell_type": "markdown",
   "metadata": {
    "id": "5j6vomwboWlZ"
   },
   "source": [
    "### String Exercise <br>\n",
    "<p>Strip all white space and capitalize every name in the list given</p>"
   ]
  },
  {
   "cell_type": "code",
   "execution_count": null,
   "metadata": {
    "id": "lJCfJPrJoWlZ",
    "outputId": "cae12ebf-d8c9-48ad-960a-df582090e1da"
   },
   "outputs": [
    {
     "name": "stdout",
     "output_type": "stream",
     "text": [
      "Connor\n",
      "Max\n",
      "Evan\n",
      "Jordan\n"
     ]
    }
   ],
   "source": [
    "names = ['    coNNor', 'max', ' EVan ', 'JORDAN']\n",
    "# HINT: You will need to use a for loop for iteration\n",
    "\n",
    "for name in names:\n",
    "    print(name.title().strip())"
   ]
  },
  {
   "cell_type": "markdown",
   "metadata": {
    "id": "rHIvTCxDoWla"
   },
   "source": [
    "### Working With Lists"
   ]
  },
  {
   "cell_type": "markdown",
   "metadata": {
    "id": "qQPmMl6VoWla"
   },
   "source": [
    "##### min()"
   ]
  },
  {
   "cell_type": "code",
   "execution_count": null,
   "metadata": {
    "id": "5Eev07--oWla",
    "outputId": "9e25f9df-0812-4de7-bacf-8f68a22da2da"
   },
   "outputs": [
    {
     "data": {
      "text/plain": [
       "2"
      ]
     },
     "execution_count": 67,
     "metadata": {},
     "output_type": "execute_result"
    }
   ],
   "source": [
    "my_list = [88,56,234,4,654,2,44,6]\n",
    "min(my_list)"
   ]
  },
  {
   "cell_type": "markdown",
   "metadata": {
    "id": "31o6s0k0oWla"
   },
   "source": [
    "##### max()"
   ]
  },
  {
   "cell_type": "code",
   "execution_count": null,
   "metadata": {
    "id": "XcY69cBWoWlb",
    "outputId": "b773a7da-f71b-401c-b092-93694d43d78a"
   },
   "outputs": [
    {
     "data": {
      "text/plain": [
       "654"
      ]
     },
     "execution_count": 56,
     "metadata": {},
     "output_type": "execute_result"
    }
   ],
   "source": [
    "max(my_list)"
   ]
  },
  {
   "cell_type": "markdown",
   "metadata": {
    "id": "z8DjSbHAoWlb"
   },
   "source": [
    "##### sum()"
   ]
  },
  {
   "cell_type": "code",
   "execution_count": null,
   "metadata": {
    "id": "9Hp6bo6yoWlb",
    "outputId": "d80d76c3-3f25-4a25-b2f7-799de3c57a73"
   },
   "outputs": [
    {
     "name": "stdout",
     "output_type": "stream",
     "text": [
      "Help on built-in function sum in module builtins:\n",
      "\n",
      "sum(iterable, /, start=0)\n",
      "    Return the sum of a 'start' value (default: 0) plus an iterable of numbers\n",
      "    \n",
      "    When the iterable is empty, return the start value.\n",
      "    This function is intended specifically for use with numeric values and may\n",
      "    reject non-numeric types.\n",
      "\n"
     ]
    }
   ],
   "source": [
    "help(sum)"
   ]
  },
  {
   "cell_type": "code",
   "execution_count": null,
   "metadata": {
    "id": "ucxkILARoWlb",
    "outputId": "ec4cc683-752b-4821-ca37-9eb75a128b5b"
   },
   "outputs": [
    {
     "data": {
      "text/plain": [
       "1088"
      ]
     },
     "execution_count": 62,
     "metadata": {},
     "output_type": "execute_result"
    }
   ],
   "source": [
    "sum(my_list)"
   ]
  },
  {
   "cell_type": "markdown",
   "metadata": {
    "id": "svy9qvRAoWlc"
   },
   "source": [
    "##### sorted()"
   ]
  },
  {
   "cell_type": "code",
   "execution_count": null,
   "metadata": {
    "id": "L7U3GGikoWlc",
    "outputId": "ab6e9fbf-0001-47cc-a506-b8f9ea3b2cfd"
   },
   "outputs": [
    {
     "name": "stdout",
     "output_type": "stream",
     "text": [
      "[2, 4, 6, 44, 56, 88, 234, 654]\n",
      "[2, 4, 6, 44, 56, 88, 234, 654]\n",
      "[2, 4, 6, 44, 56, 88, 234, 654]\n",
      "['z', 't', 'r', 'd', 'a']\n"
     ]
    }
   ],
   "source": [
    "# built in Function in python works on any iterable\n",
    "# return a copy of the array in sorted order ---- Out Of Place\n",
    "print(sorted(my_list))\n",
    "print(my_list)\n",
    "my_list = sorted(my_list)\n",
    "print(my_list)\n",
    "\n",
    "print(sorted(\"zdatr\",reverse=True))\n",
    "# help(sorted)"
   ]
  },
  {
   "cell_type": "markdown",
   "metadata": {
    "id": "Z9s0cy0NoWlc"
   },
   "source": [
    "##### .sort() <br>\n",
    "<p>Difference between sort and sorted, is that sorted doesn't change original list it returns a copy, while .sort changes the original list</p>"
   ]
  },
  {
   "cell_type": "code",
   "execution_count": null,
   "metadata": {
    "id": "7BFPEAK1oWlc",
    "outputId": "e8003f5d-db70-4ef6-b0b2-3f8950c28b20",
    "scrolled": true
   },
   "outputs": [
    {
     "name": "stdout",
     "output_type": "stream",
     "text": [
      "Help on method_descriptor:\n",
      "\n",
      "sort(self, /, *, key=None, reverse=False)\n",
      "    Sort the list in ascending order and return None.\n",
      "    \n",
      "    The sort is in-place (i.e. the list itself is modified) and stable (i.e. the\n",
      "    order of two equal elements is maintained).\n",
      "    \n",
      "    If a key function is given, apply it once to each list item and sort them,\n",
      "    ascending or descending, according to their function values.\n",
      "    \n",
      "    The reverse flag can be set to sort in descending order.\n",
      "\n",
      "None\n",
      "[2, 4, 6, 44, 56, 88, 234, 654]\n"
     ]
    }
   ],
   "source": [
    "# Sort is a method of the list class\n",
    "help(list.sort)\n",
    "my_list = [88,56,234,4,654,2,44,6]\n",
    "print(my_list.sort())\n",
    "print(my_list)\n"
   ]
  },
  {
   "cell_type": "code",
   "execution_count": null,
   "metadata": {
    "id": "3LcO0hK2oWlc"
   },
   "outputs": [],
   "source": []
  },
  {
   "cell_type": "markdown",
   "metadata": {
    "id": "il39qXvFoWld"
   },
   "source": [
    "##### Copying a List"
   ]
  },
  {
   "cell_type": "code",
   "execution_count": null,
   "metadata": {
    "id": "7Txp-8nOoWld",
    "outputId": "8a60be4d-ca4d-41a9-fd25-805be6e1a9bc"
   },
   "outputs": [
    {
     "name": "stdout",
     "output_type": "stream",
     "text": [
      "[1, 2, 3, 4, 5, 6]\n",
      "[1, 2, 3, 4, 5, 6]\n",
      "140352542115584\n",
      "140352542115584\n"
     ]
    }
   ],
   "source": [
    "# probably a bad idea\n",
    "my_list1 = [1,2,3,4,5]\n",
    "\n",
    "my_list2 = my_list1\n",
    "\n",
    "my_list2.append(6)\n",
    "\n",
    "print(my_list1)\n",
    "print(my_list2)\n",
    "print(id(my_list1))\n",
    "print(id(my_list2))"
   ]
  },
  {
   "cell_type": "code",
   "execution_count": null,
   "metadata": {
    "id": "SmYVhxWZoWld",
    "outputId": "7be0e560-e242-4cc9-d710-e6606b1e48e5"
   },
   "outputs": [
    {
     "data": {
      "text/plain": [
       "[2, 3, 4, 5]"
      ]
     },
     "execution_count": 95,
     "metadata": {},
     "output_type": "execute_result"
    }
   ],
   "source": []
  },
  {
   "cell_type": "code",
   "execution_count": null,
   "metadata": {
    "id": "f10o3xggoWld",
    "outputId": "18facfe8-9123-47d2-cded-dc043a0c275f"
   },
   "outputs": [
    {
     "name": "stdout",
     "output_type": "stream",
     "text": [
      "[1, 2, 3, 4, 5]\n",
      "[1, 2, 3, 4, 5, 6]\n",
      "140352543978944\n",
      "140352542145664\n"
     ]
    }
   ],
   "source": [
    "# How to copy a list correctly!!\n",
    "my_list1 = [1,2,3,4,5]\n",
    "my_list2 = my_list1[:]\n",
    "my_list2.append(6)\n",
    "print(my_list1)\n",
    "print(my_list2)\n",
    "print(id(my_list1))\n",
    "print(id(my_list2))"
   ]
  },
  {
   "cell_type": "code",
   "execution_count": null,
   "metadata": {
    "id": "uhQsOO46oWle"
   },
   "outputs": [],
   "source": []
  },
  {
   "cell_type": "markdown",
   "metadata": {
    "id": "bL-Ow2vaoWle"
   },
   "source": [
    "##### 'in' keyword"
   ]
  },
  {
   "cell_type": "code",
   "execution_count": null,
   "metadata": {
    "id": "1DCUA2s_oWle",
    "outputId": "6ba90deb-3138-4e40-dafd-e9ac83f5c6eb"
   },
   "outputs": [
    {
     "data": {
      "text/plain": [
       "True"
      ]
     },
     "execution_count": 101,
     "metadata": {},
     "output_type": "execute_result"
    }
   ],
   "source": [
    "5 in [2,3,7] # Note wil a list this is basically a for loop\n",
    "5 in {2,3,5,7} # this is constant time operation"
   ]
  },
  {
   "cell_type": "markdown",
   "metadata": {
    "id": "i5NSyixfoWle"
   },
   "source": [
    "##### 'not in' keyword"
   ]
  },
  {
   "cell_type": "code",
   "execution_count": null,
   "metadata": {
    "id": "Sxbb-nNpoWlg",
    "outputId": "7f7de318-d2e1-4d41-8ff2-e8e926cd17da"
   },
   "outputs": [
    {
     "data": {
      "text/plain": [
       "True"
      ]
     },
     "execution_count": 102,
     "metadata": {},
     "output_type": "execute_result"
    }
   ],
   "source": [
    "5 not in [2,3,7]"
   ]
  },
  {
   "cell_type": "markdown",
   "metadata": {
    "id": "s4iY0FWqoWlg"
   },
   "source": [
    "##### Checking an Empty List"
   ]
  },
  {
   "cell_type": "code",
   "execution_count": null,
   "metadata": {
    "id": "nXp7bJmxoWlg",
    "outputId": "5c0b3de1-af08-4097-9a00-da2786039aa5"
   },
   "outputs": [
    {
     "data": {
      "text/plain": [
       "True"
      ]
     },
     "execution_count": 111,
     "metadata": {},
     "output_type": "execute_result"
    }
   ],
   "source": [
    "bool(1)"
   ]
  },
  {
   "cell_type": "code",
   "execution_count": null,
   "metadata": {
    "id": "CgO7yGXCoWlh",
    "outputId": "74715331-5d5e-42ba-dce4-b497f4853e5a"
   },
   "outputs": [
    {
     "name": "stdout",
     "output_type": "stream",
     "text": [
      "Its empty\n",
      "Its empty\n",
      "Its empty\n"
     ]
    }
   ],
   "source": [
    "my_list = []\n",
    "if my_list == []:\n",
    "    print(\"Its empty\")\n",
    "    \n",
    "if len(my_list) == 0:\n",
    "    print(\"Its empty\")\n",
    "\n",
    "if not my_list:\n",
    "    print(\"Its empty\")\n",
    "    \n",
    "if my_list: # Most common\n",
    "    print(\"List is full\")\n"
   ]
  },
  {
   "cell_type": "code",
   "execution_count": null,
   "metadata": {
    "id": "vZcqq4RzoWlh"
   },
   "outputs": [],
   "source": []
  },
  {
   "cell_type": "markdown",
   "metadata": {
    "id": "sps6_bMToWlh"
   },
   "source": [
    "##### Removing Instances with a Loop"
   ]
  },
  {
   "cell_type": "code",
   "execution_count": null,
   "metadata": {
    "id": "LnNzHNRQoWlh",
    "outputId": "12e1bf19-232e-4b12-97d6-873cf14db51b"
   },
   "outputs": [
    {
     "name": "stdout",
     "output_type": "stream",
     "text": [
      "['Toan', 'Tim', 'McCall', 'Anu', 'Steve']\n",
      "['Toan', 'Tim', 'McCall', 'Anu']\n",
      "list at the end of the loop: ['Toan', 'Tim', 'McCall', 'Anu']\n"
     ]
    }
   ],
   "source": [
    "names = [\"Toan\",\"Tim\", \"Steve\",\"McCall\",\"Anu\",\"Steve\"]\n",
    "\n",
    "while \"Steve\" in names:\n",
    "    names.remove(\"Steve\")\n",
    "    print(names)\n",
    "print(f\"list at the end of the loop: {names}\")"
   ]
  },
  {
   "cell_type": "markdown",
   "metadata": {
    "id": "zeemdYVpoWlh"
   },
   "source": [
    "### List Exercise <br>\n",
    "<p>Remove all duplicates<br><b>Extra: Create a program that will remove any duplicates from a given list</b></p>"
   ]
  },
  {
   "cell_type": "code",
   "execution_count": 1,
   "metadata": {
    "colab": {
     "base_uri": "https://localhost:8080/"
    },
    "executionInfo": {
     "elapsed": 304,
     "status": "ok",
     "timestamp": 1633541801768,
     "user": {
      "displayName": "Mike Oberdick",
      "photoUrl": "https://lh3.googleusercontent.com/a-/AOh14Gjz-8qYzXWnC9FRZK1-ml9cLPEw_1_FuuPNocTdVg=s64",
      "userId": "14717448683617940356"
     },
     "user_tz": 240
    },
    "id": "3QaBKddKoWlh",
    "outputId": "e22051c1-8c73-4f6e-b779-346d8648eb93"
   },
   "outputs": [
    {
     "name": "stdout",
     "output_type": "stream",
     "text": [
      "['connor', 'bob', 'evan', 'max', 2, 3, 4, 'kevin']\n"
     ]
    },
    {
     "data": {
      "text/plain": [
       "[2, 3, 4, 'connor', 'evan', 'kevin', 'bob', 'max']"
      ]
     },
     "execution_count": 1,
     "metadata": {},
     "output_type": "execute_result"
    }
   ],
   "source": [
    "names = ['connor', 'connor', 'bob', 'connor', 'evan', 'max', 'evan', 2, 2, 2, 3, 3, 4, 'bob', 'kevin']\n",
    "# I need to create a new list to add items too\n",
    "\n",
    "new_names = []\n",
    "for name in names:\n",
    "    if name not in new_names:\n",
    "        new_names.append(name)\n",
    "\n",
    "print(new_names)\n",
    "\n",
    "#another way to do it\n",
    "list(set(names))\n",
    "\n"
   ]
  },
  {
   "cell_type": "markdown",
   "metadata": {
    "id": "hFJWx3VhoWli"
   },
   "source": [
    "### List Comprehensions <br>\n",
    "<p>Creating a quickly generated list to work with<br>*result*  = [*transform*    *iteration*         *filter*     ]</p>"
   ]
  },
  {
   "cell_type": "markdown",
   "metadata": {
    "id": "EEFTDx5doWli"
   },
   "source": [
    "##### In a list comprehension we have a few pieces:\n",
    "1. The first is the counter/ variable - IN this the variable is x\n",
    "2. then we have a transform for the variable\n",
    "3. The finale part of a list comp is called the condition\n",
    "\n",
    "```python\n",
    "    [variable, transform, condition]\n",
    "```"
   ]
  },
  {
   "cell_type": "code",
   "execution_count": null,
   "metadata": {
    "id": "AWobqAgXoWli",
    "outputId": "a1b13e46-2993-4c03-c5b4-ce31d16169a6"
   },
   "outputs": [
    {
     "name": "stdout",
     "output_type": "stream",
     "text": [
      "[0, 1, 2, 3, 4, 5, 6, 7, 8, 9, 10, 11, 12, 13, 14, 15, 16, 17, 18, 19, 20, 21, 22, 23, 24, 25, 26, 27, 28, 29, 30, 31, 32, 33, 34, 35, 36, 37, 38, 39, 40, 41, 42, 43, 44, 45, 46, 47, 48, 49, 50, 51, 52, 53, 54, 55, 56, 57, 58, 59, 60, 61, 62, 63, 64, 65, 66, 67, 68, 69, 70, 71, 72, 73, 74, 75, 76, 77, 78, 79, 80, 81, 82, 83, 84, 85, 86, 87, 88, 89, 90, 91, 92, 93, 94, 95, 96, 97, 98, 99]\n",
      "nums_comp \n",
      "[0, 1, 2, 3, 4, 5, 6, 7, 8, 9, 10, 11, 12, 13, 14, 15, 16, 17, 18, 19, 20, 21, 22, 23, 24, 25, 26, 27, 28, 29, 30, 31, 32, 33, 34, 35, 36, 37, 38, 39, 40, 41, 42, 43, 44, 45, 46, 47, 48, 49, 50, 51, 52, 53, 54, 55, 56, 57, 58, 59, 60, 61, 62, 63, 64, 65, 66, 67, 68, 69, 70, 71, 72, 73, 74, 75, 76, 77, 78, 79, 80, 81, 82, 83, 84, 85, 86, 87, 88, 89, 90, 91, 92, 93, 94, 95, 96, 97, 98, 99]\n"
     ]
    }
   ],
   "source": [
    "nums = []\n",
    "for i in range(100):\n",
    "    nums.append(i)\n",
    "print(nums)\n",
    "\n",
    "nums_comp = [i for i in range(100)]\n",
    "print(f\"nums_comp \\n{nums_comp}\")"
   ]
  },
  {
   "cell_type": "code",
   "execution_count": null,
   "metadata": {
    "id": "opoiJ3_koWlj",
    "outputId": "f44bcca8-8e1c-4322-8a3b-c438bc74dd3d"
   },
   "outputs": [
    {
     "name": "stdout",
     "output_type": "stream",
     "text": [
      "[0, 1, 4, 9, 16, 25, 36, 49, 64, 81, 100, 121, 144, 169, 196, 225, 256, 289, 324, 361, 400, 441, 484, 529, 576, 625, 676, 729, 784, 841, 900, 961, 1024, 1089, 1156, 1225, 1296, 1369, 1444, 1521, 1600, 1681, 1764, 1849, 1936, 2025, 2116, 2209, 2304, 2401, 2500, 2601, 2704, 2809, 2916, 3025, 3136, 3249, 3364, 3481, 3600, 3721, 3844, 3969, 4096, 4225, 4356, 4489, 4624, 4761, 4900, 5041, 5184, 5329, 5476, 5625, 5776, 5929, 6084, 6241, 6400, 6561, 6724, 6889, 7056, 7225, 7396, 7569, 7744, 7921, 8100, 8281, 8464, 8649, 8836, 9025, 9216, 9409, 9604, 9801]\n",
      "nums_comp \n",
      "[0, 1, 4, 9, 16, 25, 36, 49, 64, 81, 100, 121, 144, 169, 196, 225, 256, 289, 324, 361, 400, 441, 484, 529, 576, 625, 676, 729, 784, 841, 900, 961, 1024, 1089, 1156, 1225, 1296, 1369, 1444, 1521, 1600, 1681, 1764, 1849, 1936, 2025, 2116, 2209, 2304, 2401, 2500, 2601, 2704, 2809, 2916, 3025, 3136, 3249, 3364, 3481, 3600, 3721, 3844, 3969, 4096, 4225, 4356, 4489, 4624, 4761, 4900, 5041, 5184, 5329, 5476, 5625, 5776, 5929, 6084, 6241, 6400, 6561, 6724, 6889, 7056, 7225, 7396, 7569, 7744, 7921, 8100, 8281, 8464, 8649, 8836, 9025, 9216, 9409, 9604, 9801]\n"
     ]
    }
   ],
   "source": [
    "nums = []\n",
    "for i in range(100):\n",
    "    nums.append(i**2)\n",
    "print(nums)\n",
    "\n",
    "nums_comp = [i**2 for i in range(100)]\n",
    "print(f\"nums_comp \\n{nums_comp}\")"
   ]
  },
  {
   "cell_type": "markdown",
   "metadata": {
    "id": "g3wr_JxroWlj"
   },
   "source": [
    "There are a few benefits to using List comprehensions. The most obvious would be that we now have shorter code to work with instead of using 3+ lines of code in the for loop variant.\n",
    "\n",
    "Another is an added benefit to memory usage. Since the list's memory is allocated first before adding elements to it, we don't have to resize the list once we add elements to it.\n",
    "\n",
    "Lastly, list comprehensions are considered the \"pythonic\" way to write code by the PEP8 standards (Python Style Guide)"
   ]
  },
  {
   "cell_type": "code",
   "execution_count": null,
   "metadata": {
    "id": "cd3GcW6HoWlj",
    "outputId": "4983a204-c61e-4ec2-caeb-d3cb62ce629b"
   },
   "outputs": [
    {
     "name": "stdout",
     "output_type": "stream",
     "text": [
      "['M', 'E', 'C', 'T', 'P']\n"
     ]
    }
   ],
   "source": [
    "names = [\"Mark\",\"Eduardo\", \"C-tina\", \"Tate\", \"Pari\"]\n",
    "first_char_comp = [name[0] for name in names]\n",
    "print(first_char_comp)"
   ]
  },
  {
   "cell_type": "code",
   "execution_count": null,
   "metadata": {
    "id": "HItQjVpvoWlj",
    "outputId": "53257019-142b-4d5a-b1de-a5fe4a861a0d"
   },
   "outputs": [
    {
     "name": "stdout",
     "output_type": "stream",
     "text": [
      "['Mark', 'Not 4', 'Not 4', 'Tate', 'Pari']\n",
      "['Mark', 'Tate', 'Pari']\n",
      "['Mark', 'Not 4', 'Not 4', 'Tate', 'Pari']\n"
     ]
    }
   ],
   "source": [
    "# What if we need if statements????\n",
    "four_l=[]\n",
    "for name in names:\n",
    "    if len(name)==4:\n",
    "        four_l.append(name)\n",
    "    else:\n",
    "        four_l.append(\"Not 4\")\n",
    "print(four_l)\n",
    "\n",
    "four_letter_names = [name for name in names if len(name)==4]\n",
    "print(four_letter_names)\n",
    "\n",
    "# ill add people whose length is not 5 into the last as \"Not 5\"\n",
    "four_letter_names = [name if len(name)==4 else \"Not 4\" for name in names]\n",
    "print(four_letter_names)\n"
   ]
  },
  {
   "cell_type": "code",
   "execution_count": null,
   "metadata": {
    "id": "lnycVw7goWlj",
    "outputId": "82b20bbe-7f0b-4ff6-f803-8b15b47d5472"
   },
   "outputs": [
    {
     "name": "stdout",
     "output_type": "stream",
     "text": [
      "['1A', '1B', '1C', '1D', '2A', '2B', '2C', '2D', '3A', '3B', '3C', '3D', '4A', '4B', '4C', '4D', '5A', '5B', '5C', '5D']\n"
     ]
    }
   ],
   "source": [
    "la = [1,2,3,4,5]\n",
    "lb = [\"A\",\"B\",\"C\",\"D\"]\n",
    "\n",
    "let_num=[]\n",
    "for number in la:\n",
    "    for letter in lb:\n",
    "        let_num.append(f'{number}{letter}')\n",
    "print(let_num)"
   ]
  },
  {
   "cell_type": "code",
   "execution_count": null,
   "metadata": {
    "id": "k4X7iLxuoWlk",
    "scrolled": true
   },
   "outputs": [],
   "source": [
    "let_num_comp = [f'{number}{letter}' for number in la for letter in lb]\n",
    "let_num_comp"
   ]
  },
  {
   "cell_type": "code",
   "execution_count": 13,
   "metadata": {},
   "outputs": [
    {
     "data": {
      "text/plain": [
       "'hello world {x}'"
      ]
     },
     "execution_count": 13,
     "metadata": {},
     "output_type": "execute_result"
    }
   ],
   "source": [
    "x = 7\n",
    "f\"hello world {x}\""
   ]
  },
  {
   "cell_type": "code",
   "execution_count": null,
   "metadata": {
    "id": "ic-kqhploWlk",
    "outputId": "0c0add1a-7ffb-48c5-c7b7-a49389d9f2ee"
   },
   "outputs": [
    {
     "name": "stdout",
     "output_type": "stream",
     "text": [
      "['T', 'o', 'd', 'a', 'y', 'i', 's', 't', 'h', 'e', 'd', 'a', 'y', 't', 'h', 'a', 't', \"'\", 's', 'g', 'o', 'n', 'n', 'a', 'b', 'r', 'i', 'n', 'g', 'm', 'e', 'b', 'a', 'c', 'k', 't', 'o', 'y', 'o', 'u']\n"
     ]
    }
   ],
   "source": [
    "sentence = [\"Today\",\"is\",\"the\",\"day\",\"that's\",\"gonna\",\"bring\",\"me\",\"back\",\"to\",\"you\"]\n",
    "\n",
    "letters=[]\n",
    "for word in sentence:\n",
    "    for letter in word:\n",
    "        letters.append(letter)\n",
    "        \n",
    "print(letters)"
   ]
  },
  {
   "cell_type": "code",
   "execution_count": null,
   "metadata": {
    "id": "0W7zsP7woWlk",
    "scrolled": true
   },
   "outputs": [],
   "source": [
    "letters_comp = [letter.upper() for word in sentence for letter in word]\n",
    "letters_comp"
   ]
  },
  {
   "cell_type": "code",
   "execution_count": null,
   "metadata": {
    "id": "Y9cGENZ3oWlk",
    "outputId": "1295509b-89f7-4d2c-a8b9-e1e95b86683b"
   },
   "outputs": [
    {
     "data": {
      "text/plain": [
       "['E', 'N', 'E', 'Y']"
      ]
     },
     "execution_count": 136,
     "metadata": {},
     "output_type": "execute_result"
    }
   ],
   "source": [
    "# Ex.............\n",
    "\n",
    "# given a list use a list comprehension to give me the \n",
    "# last letter of each word capitalized\n",
    "my_list=[\"steve\",\"susan\",\"jake\",\"troy\"]\n",
    "#output \n",
    "#[\"E\", \"N\", \"E\", \"Y\"]\n",
    "\n",
    "[name[-1].upper() for name in my_list]"
   ]
  },
  {
   "cell_type": "markdown",
   "metadata": {
    "id": "x4HVpt53oWlk"
   },
   "source": [
    "### Tuples <br>\n",
    "<p><b>Defined as an immutable list</b></p><br>Seperated by commas using parenthesis"
   ]
  },
  {
   "cell_type": "code",
   "execution_count": null,
   "metadata": {
    "id": "XBB94wl9oWlk",
    "outputId": "4a5686e8-a163-4337-af01-b4b450fe668f",
    "scrolled": false
   },
   "outputs": [
    {
     "name": "stdout",
     "output_type": "stream",
     "text": [
      "(1, 2, 3) <class 'tuple'>\n",
      "(1, 2, 3) <class 'tuple'>\n"
     ]
    }
   ],
   "source": [
    "t = 1,2,3\n",
    "print(t,type(t))\n",
    "t_1 = (1,2,3)\n",
    "print(t_1,type(t_1))"
   ]
  },
  {
   "cell_type": "code",
   "execution_count": null,
   "metadata": {
    "id": "StO2PBtSoWlk"
   },
   "outputs": [],
   "source": [
    "#empty tuples... basically useless\n",
    "t_2 = tuple()\n",
    "t_3 = ()"
   ]
  },
  {
   "cell_type": "code",
   "execution_count": null,
   "metadata": {
    "id": "YUUPYTYzoWll",
    "outputId": "1ec77955-c008-4aeb-a314-9eb94eb23966"
   },
   "outputs": [
    {
     "data": {
      "text/plain": [
       "'David'"
      ]
     },
     "execution_count": 140,
     "metadata": {},
     "output_type": "execute_result"
    }
   ],
   "source": [
    "my_tup = (\"Tim\", \"David\", \"Mike\")\n",
    "my_tup[1]"
   ]
  },
  {
   "cell_type": "code",
   "execution_count": null,
   "metadata": {
    "id": "mL7UdHzsoWll",
    "outputId": "4c271443-2ffd-4610-a75d-cb661c55b27a"
   },
   "outputs": [
    {
     "data": {
      "text/plain": [
       "2"
      ]
     },
     "execution_count": 141,
     "metadata": {},
     "output_type": "execute_result"
    }
   ],
   "source": [
    "my_tup.index(\"Mike\")"
   ]
  },
  {
   "cell_type": "code",
   "execution_count": null,
   "metadata": {
    "id": "-mr3hVfloWll",
    "outputId": "5e63e3b6-4c8e-48a8-ef33-3c96886f8114",
    "scrolled": true
   },
   "outputs": [
    {
     "ename": "TypeError",
     "evalue": "'tuple' object does not support item assignment",
     "output_type": "error",
     "traceback": [
      "\u001b[0;31m---------------------------------------------------------------------------\u001b[0m",
      "\u001b[0;31mTypeError\u001b[0m                                 Traceback (most recent call last)",
      "\u001b[0;32m<ipython-input-142-1ffae98f61d2>\u001b[0m in \u001b[0;36m<module>\u001b[0;34m\u001b[0m\n\u001b[0;32m----> 1\u001b[0;31m \u001b[0mmy_tup\u001b[0m\u001b[0;34m[\u001b[0m\u001b[0;36m1\u001b[0m\u001b[0;34m]\u001b[0m\u001b[0;34m=\u001b[0m\u001b[0;34m\"Jones\"\u001b[0m\u001b[0;34m\u001b[0m\u001b[0;34m\u001b[0m\u001b[0m\n\u001b[0m",
      "\u001b[0;31mTypeError\u001b[0m: 'tuple' object does not support item assignment"
     ]
    }
   ],
   "source": [
    "my_tup[1]=\"Jones\" ## NOOOOOO TUPLES ARE IMMUTABLE"
   ]
  },
  {
   "cell_type": "code",
   "execution_count": null,
   "metadata": {
    "id": "PSOw7ag9oWll",
    "outputId": "f516b953-a5be-4566-8ed9-25f6b6f415f0",
    "scrolled": false
   },
   "outputs": [
    {
     "ename": "AttributeError",
     "evalue": "'tuple' object has no attribute 'append'",
     "output_type": "error",
     "traceback": [
      "\u001b[0;31m---------------------------------------------------------------------------\u001b[0m",
      "\u001b[0;31mAttributeError\u001b[0m                            Traceback (most recent call last)",
      "\u001b[0;32m<ipython-input-143-eb3750aef465>\u001b[0m in \u001b[0;36m<module>\u001b[0;34m\u001b[0m\n\u001b[0;32m----> 1\u001b[0;31m \u001b[0mmy_tup\u001b[0m\u001b[0;34m.\u001b[0m\u001b[0mappend\u001b[0m\u001b[0;34m(\u001b[0m\u001b[0;34m\"Steve\"\u001b[0m\u001b[0;34m)\u001b[0m \u001b[0;31m#NOOOOO\u001b[0m\u001b[0;34m\u001b[0m\u001b[0;34m\u001b[0m\u001b[0m\n\u001b[0m",
      "\u001b[0;31mAttributeError\u001b[0m: 'tuple' object has no attribute 'append'"
     ]
    }
   ],
   "source": [
    "my_tup.append(\"Steve\") #NOOOOO"
   ]
  },
  {
   "cell_type": "code",
   "execution_count": null,
   "metadata": {
    "id": "lt_K12w7oWll",
    "outputId": "a08a4977-2754-4858-e657-e42a5b9814e8"
   },
   "outputs": [
    {
     "data": {
      "text/plain": [
       "('Tim', 'David', 'Mike', 5, 6)"
      ]
     },
     "execution_count": 146,
     "metadata": {},
     "output_type": "execute_result"
    }
   ],
   "source": [
    "new_tuple = my_tup + (5,6)\n",
    "new_tuple"
   ]
  },
  {
   "cell_type": "code",
   "execution_count": null,
   "metadata": {
    "id": "IS2yAIfHoWlm",
    "outputId": "86a0ad5d-e949-4882-af0b-4f610849243d"
   },
   "outputs": [
    {
     "data": {
      "text/plain": [
       "[(0, 'steve'), (1, 'susan'), (2, 'jake'), (3, 'troy')]"
      ]
     },
     "execution_count": 147,
     "metadata": {},
     "output_type": "execute_result"
    }
   ],
   "source": [
    "list(enumerate(my_list))"
   ]
  },
  {
   "cell_type": "markdown",
   "metadata": {
    "id": "_QbMQbaSoWlm"
   },
   "source": [
    "##### sorted()"
   ]
  },
  {
   "cell_type": "code",
   "execution_count": null,
   "metadata": {
    "id": "saXVzUyeoWlm",
    "outputId": "b36ef96e-d6fd-428f-bc1e-f67e224d4fae"
   },
   "outputs": [
    {
     "data": {
      "text/plain": [
       "('David', 'Mike', 'Tim')"
      ]
     },
     "execution_count": 150,
     "metadata": {},
     "output_type": "execute_result"
    }
   ],
   "source": [
    "sorted_tup = sorted(my_tup)\n",
    "\n",
    "# Get a List\n",
    "#convert it back to a tuple\n",
    "sorted_tup = tuple(sorted_tup)\n",
    "sorted_tup"
   ]
  },
  {
   "cell_type": "markdown",
   "metadata": {
    "id": "8YQp1gtAoWlm"
   },
   "source": [
    "##### Adding values to a Tuple"
   ]
  },
  {
   "cell_type": "code",
   "execution_count": null,
   "metadata": {
    "id": "osNasHbzoWlm"
   },
   "outputs": [],
   "source": [
    "#Reconstruct the tuple and add values\n",
    "# Did this above"
   ]
  },
  {
   "cell_type": "code",
   "execution_count": null,
   "metadata": {
    "id": "wR5wvLqwoWlm",
    "outputId": "be68944c-2989-400a-f8ec-81abe3bb800d"
   },
   "outputs": [
    {
     "data": {
      "text/plain": [
       "(1, 2, 3, ['A', 'D', 'C'])"
      ]
     },
     "execution_count": 153,
     "metadata": {},
     "output_type": "execute_result"
    }
   ],
   "source": [
    "new_tup = (1,2,3,[\"A\",\"B\",\"C\"])\n",
    "new_tup[3][1]=\"D\"\n",
    "new_tup"
   ]
  },
  {
   "cell_type": "markdown",
   "metadata": {
    "id": "JBRM-7mpoWlm"
   },
   "source": [
    "## Functions"
   ]
  },
  {
   "cell_type": "markdown",
   "metadata": {
    "id": "2Z1T2szsoWlm"
   },
   "source": [
    "##### User-Defined vs. Built-In Functions"
   ]
  },
  {
   "cell_type": "code",
   "execution_count": null,
   "metadata": {
    "id": "hyr_lEDJoWln",
    "outputId": "c7981098-aa99-426c-dce2-ea54e39dc0f6"
   },
   "outputs": [
    {
     "name": "stdout",
     "output_type": "stream",
     "text": [
      "Hello World!\n",
      "None\n",
      "Help on function say_hello in module __main__:\n",
      "\n",
      "say_hello()\n",
      "\n"
     ]
    }
   ],
   "source": [
    "# Built-in\n",
    "# int(), min, max, type, print, help, dir, abs, sorted\n",
    "\n",
    "#User defined Function\n",
    "\n",
    "def say_hello():\n",
    "    print(\"Hello World!\")\n",
    "    return None\n",
    "\n",
    "print(say_hello())\n"
   ]
  },
  {
   "cell_type": "markdown",
   "metadata": {
    "id": "a-fDoNLyoWln"
   },
   "source": [
    "##### Accepting Parameters"
   ]
  },
  {
   "cell_type": "code",
   "execution_count": null,
   "metadata": {
    "id": "Zc1Mu8MEoWln",
    "outputId": "4f964dc1-0ffc-414c-a869-c9b1602bde13"
   },
   "outputs": [
    {
     "name": "stdout",
     "output_type": "stream",
     "text": [
      "Beier Kevin\n"
     ]
    }
   ],
   "source": [
    "# Order matters\n",
    "# A variable can be any type of object\n",
    "\n",
    "def print_full_name(first_name, last_name):\n",
    "    print(f\"{first_name} {last_name}\")\n",
    "    \n",
    "print_full_name(\"Beier\", \"Kevin\")\n",
    "    "
   ]
  },
  {
   "cell_type": "markdown",
   "metadata": {
    "id": "SsK5LNh4oWln"
   },
   "source": [
    "##### Default Parameters"
   ]
  },
  {
   "cell_type": "code",
   "execution_count": null,
   "metadata": {
    "id": "-0pFtUgEoWln",
    "outputId": "de9828e9-f523-4c7b-f97f-6694461f7adb"
   },
   "outputs": [
    {
     "name": "stdout",
     "output_type": "stream",
     "text": [
      "Your agent name is Bond, Kevin Bond\n",
      "Your agent name is Beier, Kevin Beier\n"
     ]
    }
   ],
   "source": [
    "def print_agent_name(first, last=\"Bond\"):\n",
    "    print(f\"Your agent name is {last}, {first} {last}\")\n",
    "\n",
    "print_agent_name(\"Kevin\")    \n",
    "print_agent_name(\"Kevin\", \"Beier\")"
   ]
  },
  {
   "cell_type": "code",
   "execution_count": null,
   "metadata": {
    "id": "vhPpR4IroWln",
    "outputId": "1d98532c-8a6c-4586-bc6c-45b715bc8737",
    "scrolled": true
   },
   "outputs": [
    {
     "name": "stdout",
     "output_type": "stream",
     "text": [
      "Your agent name is Beier, Kevin Beier\n"
     ]
    }
   ],
   "source": [
    "print_agent_name(last=\"Beier\", first=\"Kevin\")"
   ]
  },
  {
   "cell_type": "code",
   "execution_count": null,
   "metadata": {
    "id": "EA1jV3hfoWlo"
   },
   "outputs": [],
   "source": []
  },
  {
   "cell_type": "markdown",
   "metadata": {
    "id": "-49ItvyPoWlo"
   },
   "source": [
    "##### Making an Argument Optional"
   ]
  },
  {
   "cell_type": "code",
   "execution_count": null,
   "metadata": {
    "id": "n4EBXyj8oWlo",
    "outputId": "0a7631e2-9f70-403d-89c4-a688f76db463",
    "scrolled": true
   },
   "outputs": [
    {
     "name": "stdout",
     "output_type": "stream",
     "text": [
      "Hello Kevin  Ed\n",
      "Hello Kevin andrew Ed\n",
      "Hello Kevin andrew Beier\n",
      "Hello Kevin  Beier\n"
     ]
    }
   ],
   "source": [
    "def make_name(first, middle=\"\", last=\"Ed\"): #default args come last!\n",
    "    print(f\"Hello {first} {middle} {last}\")\n",
    "\n",
    "make_name(\"Kevin\")\n",
    "make_name(\"Kevin\", \"andrew\")\n",
    "make_name(\"Kevin\", \"andrew\", \"Beier\")\n",
    "make_name(\"Kevin\",last=\"Beier\")\n",
    "# make_name(last=\"Beier\",\"Kevin\") #keyword args need to be last\n"
   ]
  },
  {
   "cell_type": "code",
   "execution_count": null,
   "metadata": {
    "id": "h6mdqHcwoWlo",
    "outputId": "4b3639d6-3a45-4ce0-c2fb-98ea407fd6c8"
   },
   "outputs": [
    {
     "name": "stdout",
     "output_type": "stream",
     "text": [
      "Jersey Mikes is overpriced\n",
      "Thanks\n"
     ]
    }
   ],
   "source": [
    "def what_datatype():\n",
    "    return \"jersey mikes\"\n",
    "\n",
    "print(\n",
    "    what_datatype().title()+\" is overpriced\"\n",
    ")\n",
    "print(\"Thanks\")"
   ]
  },
  {
   "cell_type": "code",
   "execution_count": null,
   "metadata": {
    "id": "hiIdXMdZoWlo",
    "outputId": "f018de97-f378-4133-ccc2-cdfae841b9f5"
   },
   "outputs": [
    {
     "name": "stdout",
     "output_type": "stream",
     "text": [
      "0\n",
      "1\n",
      "2\n",
      "3\n"
     ]
    },
    {
     "data": {
      "text/plain": [
       "4"
      ]
     },
     "execution_count": 198,
     "metadata": {},
     "output_type": "execute_result"
    }
   ],
   "source": [
    "# Return Exits the function!\n",
    "def return_stops():\n",
    "    for i in range(10):\n",
    "        print(i)\n",
    "        if i == 3:\n",
    "            return 4\n",
    "return_stops()"
   ]
  },
  {
   "cell_type": "code",
   "execution_count": null,
   "metadata": {
    "id": "fCxZFeDVoWlo",
    "outputId": "18bf8270-c136-4a13-91fd-86ae8793ff7c"
   },
   "outputs": [
    {
     "name": "stdout",
     "output_type": "stream",
     "text": [
      "Hello\n"
     ]
    }
   ],
   "source": [
    "def dead_code(): # Unreachable Code\n",
    "    print(\"Hello\")\n",
    "    return\n",
    "    print(\"Goodbye\") #<--- UNREACHABLE!!!!!\n",
    "\n",
    "dead_code()"
   ]
  },
  {
   "cell_type": "markdown",
   "metadata": {
    "id": "FowHajrdoWlo"
   },
   "source": [
    "##### Keyword Arguments"
   ]
  },
  {
   "cell_type": "code",
   "execution_count": null,
   "metadata": {
    "id": "_56b95zXoWlp"
   },
   "outputs": [],
   "source": [
    "#see above"
   ]
  },
  {
   "cell_type": "code",
   "execution_count": null,
   "metadata": {
    "id": "RR9xaq_6oWlp",
    "outputId": "a1ca79a0-cc7d-489e-d72f-4748709f04d7",
    "scrolled": true
   },
   "outputs": [
    {
     "name": "stdout",
     "output_type": "stream",
     "text": [
      "Kevin\n",
      "2\n",
      "4\n",
      "5\n",
      "6\n",
      "7\n",
      "8\n"
     ]
    }
   ],
   "source": [
    "# *args and **kwargs\n",
    "def my_func(name, *args): \n",
    "    #*args needs to be at the end\n",
    "    # of positional args but before keyword args\n",
    "    print(name)\n",
    "    for arg in args:\n",
    "        print(arg)\n",
    "        \n",
    "my_func(\"Kevin\",2,4,5,6,7,8)"
   ]
  },
  {
   "cell_type": "code",
   "execution_count": null,
   "metadata": {
    "id": "d8tBK7cOoWlp",
    "outputId": "f9c3c87a-6199-4467-a037-a0988e61750a"
   },
   "outputs": [
    {
     "name": "stdout",
     "output_type": "stream",
     "text": [
      "height 72\n",
      "weight 120.4\n",
      "foods ['pizza', 'tacos', 'dimsum', 'sushi']\n"
     ]
    }
   ],
   "source": [
    "def my_func(name,**kwargs):\n",
    "    for key in kwargs:\n",
    "        print(key, kwargs[key])\n",
    "my_func(\"Kevin\", height=72, weight=120.4, foods=[\"pizza\",\"tacos\",\"dimsum\",\"sushi\"])"
   ]
  },
  {
   "cell_type": "code",
   "execution_count": null,
   "metadata": {
    "id": "9LDHHhdToWlp",
    "outputId": "4c626137-e856-4e3d-a48f-e695ed715ec9"
   },
   "outputs": [
    {
     "name": "stdout",
     "output_type": "stream",
     "text": [
      "value Kevin\n"
     ]
    }
   ],
   "source": [
    "my_dict = {\"key\":\"value\",\"name\":\"Kevin\"}\n",
    "\n",
    "def my_fun(key,name):\n",
    "    print(key,name)\n",
    "\n",
    "my_fun(**my_dict) # key=\"value\", name=\"Kevin\""
   ]
  },
  {
   "cell_type": "code",
   "execution_count": null,
   "metadata": {
    "id": "_G7rkJq7oWlp",
    "outputId": "a83a3c57-57fa-4734-ebdd-5f43d5308456"
   },
   "outputs": [
    {
     "name": "stdout",
     "output_type": "stream",
     "text": [
      "6\n",
      "6\n"
     ]
    }
   ],
   "source": [
    "#Function should return the sum of all the numbers given to it.. do not use a List\n",
    "def my_sum(*args):\n",
    "    return sum(args)\n",
    "print(my_sum(1,2,3))\n",
    "\n",
    "def my_sum(*args):\n",
    "    total=0\n",
    "    for number in args:\n",
    "        total+=number\n",
    "    return total\n",
    "\n",
    "print(my_sum(1,2,3))"
   ]
  },
  {
   "cell_type": "markdown",
   "metadata": {
    "id": "f8kQSEwVoWlp"
   },
   "source": [
    "# Creating a start, stop, step function"
   ]
  },
  {
   "cell_type": "code",
   "execution_count": null,
   "metadata": {
    "id": "X21zPgwCoWlp",
    "outputId": "2c20d068-e120-4a97-838b-a9def306b249"
   },
   "outputs": [
    {
     "name": "stdout",
     "output_type": "stream",
     "text": [
      "4\n",
      "6\n",
      "8\n"
     ]
    }
   ],
   "source": [
    "def my_range(stop, start=0, step=1):\n",
    "    for i in range(start,stop,step):\n",
    "        print(i)\n",
    "# my_range(10)\n",
    "# my_range(10,5)\n",
    "my_range(10,4,2)"
   ]
  },
  {
   "cell_type": "markdown",
   "metadata": {
    "id": "aXYKOMmvoWlq"
   },
   "source": [
    "##### Returning Values"
   ]
  },
  {
   "cell_type": "code",
   "execution_count": null,
   "metadata": {
    "id": "vNPc4ObAoWlq",
    "outputId": "fdf1daaa-f7b7-47b5-b019-d3fa4f91b312"
   },
   "outputs": [
    {
     "name": "stdout",
     "output_type": "stream",
     "text": [
      "<class 'str'>\n"
     ]
    }
   ],
   "source": [
    "def add_nums(num1, num2):\n",
    "    return num1 + num2\n",
    "\n",
    "print(\n",
    "    type(add_nums(\"A\",\"B\"))\n",
    "     )"
   ]
  },
  {
   "cell_type": "markdown",
   "metadata": {
    "id": "YQY0G-N-oWlq"
   },
   "source": [
    "##### *args"
   ]
  },
  {
   "cell_type": "code",
   "execution_count": null,
   "metadata": {
    "id": "zfvpOumsoWlr"
   },
   "outputs": [],
   "source": [
    "#stands for arguments, takes ANY number of arguments as parameters\n",
    "#must be last if multiple parameters are presents\n",
    "\n",
    "## See above\n"
   ]
  },
  {
   "cell_type": "markdown",
   "metadata": {
    "id": "OJv5R9F9oWls"
   },
   "source": [
    "##### Docstring"
   ]
  },
  {
   "cell_type": "code",
   "execution_count": null,
   "metadata": {
    "id": "plUwiOh-oWls",
    "outputId": "f3fea30e-da49-45ea-acf5-ee67ad70c07d"
   },
   "outputs": [
    {
     "name": "stdout",
     "output_type": "stream",
     "text": [
      "Help on function my_function in module __main__:\n",
      "\n",
      "my_function(name, age)\n",
      "    takes in an name and age and returns a formatted string tells the names age\n",
      "    [name] - string\n",
      "    [age] - integer\n",
      "\n"
     ]
    }
   ],
   "source": [
    "def my_function(name, age):\n",
    "    \"\"\"\n",
    "    takes in an name and age and returns a formatted string tells the names age\n",
    "    [name] - string\n",
    "    [age] - integer\n",
    "    \"\"\"\n",
    "    return f\"{name} is {age}\"\n",
    "\n",
    "help(my_function)\n"
   ]
  },
  {
   "cell_type": "markdown",
   "metadata": {
    "id": "jDevdph_oWls"
   },
   "source": [
    "##### Using a User Function in a Loop"
   ]
  },
  {
   "cell_type": "code",
   "execution_count": null,
   "metadata": {
    "id": "43Kt9p2poWls",
    "outputId": "22f32a0d-4e5c-48f4-bbac-8d1f80ae7fe5"
   },
   "outputs": [
    {
     "name": "stdout",
     "output_type": "stream",
     "text": [
      "What is your number? 2\n",
      "4\n",
      "ready to quit yet? no\n",
      "What is your number? 8\n",
      "10\n",
      "ready to quit yet? quit\n"
     ]
    }
   ],
   "source": [
    "def add_two(n):\n",
    "    print(n+2)\n",
    "    \n",
    "while True:\n",
    "    ask = int(input(\"What is your number? \"))\n",
    "    add_two(ask)\n",
    "    response = input(\"ready to quit yet? [Type Quit] \")\n",
    "    if response.lower()==\"quit\":\n",
    "        break\n",
    "        \n",
    "\n",
    "    "
   ]
  },
  {
   "cell_type": "markdown",
   "metadata": {
    "id": "mp6D9jtCoWlt"
   },
   "source": [
    "## Function Exercise <br>\n",
    "<p>Write a function that loops through a list of first_names and a list of last_names, combines the two and return a list of full_names</p>"
   ]
  },
  {
   "cell_type": "code",
   "execution_count": null,
   "metadata": {
    "id": "OAq6mDf6oWlt",
    "outputId": "787ff5a2-a424-417b-f9a1-5e8841216b42"
   },
   "outputs": [
    {
     "name": "stdout",
     "output_type": "stream",
     "text": [
      "['John Smith', 'Evan Smith', 'Jordan Williams', 'Max Bell']\n",
      "['John Smith', 'Evan Smith', 'Jordan Williams', 'Max Bell']\n"
     ]
    }
   ],
   "source": [
    "first = ['John', 'Evan', 'Jordan', 'Max']\n",
    "last = ['Smith', 'Smith', 'Williams', 'Bell']\n",
    "# Assume the lists are the same length\n",
    "\n",
    "def add_names(first_names,last_names):\n",
    "    full_names=[]\n",
    "    for i in range(len(first_names)):\n",
    "        full_names.append(first_names[i]+\" \"+last_names[i])\n",
    "    return full_names\n",
    "\n",
    "print(add_names(first,last))\n",
    "\n",
    "# List comprehension\n",
    "def add_names_comp(first_names,last_names):\n",
    "    full_names = [first_names[i]+' '+last_names[i] for i in range(len(first_names))]\n",
    "    return full_names\n",
    "print(add_names_comp(first,last))\n",
    "\n",
    "# Output: ['John Smith', 'Evan Smith', 'Jordan Williams', 'Max Bell']      "
   ]
  },
  {
   "cell_type": "markdown",
   "metadata": {
    "id": "7qU6rn7ioWlt"
   },
   "source": [
    "## Scope <br>\n",
    "<p>Scope refers to the ability to access variables, different types of scope include:<br>a) Global<br>b) Function (local)<br>c) Class (local)</p>"
   ]
  },
  {
   "cell_type": "code",
   "execution_count": null,
   "metadata": {
    "id": "IR7WZ6vsoWlt",
    "outputId": "af0d1c4b-d0b9-47cd-bc1e-3fc34ff31da9"
   },
   "outputs": [
    {
     "name": "stdout",
     "output_type": "stream",
     "text": [
      "A\n",
      "B\n"
     ]
    },
    {
     "ename": "NameError",
     "evalue": "name 'var2' is not defined",
     "output_type": "error",
     "traceback": [
      "\u001b[0;31m---------------------------------------------------------------------------\u001b[0m",
      "\u001b[0;31mNameError\u001b[0m                                 Traceback (most recent call last)",
      "\u001b[0;32m<ipython-input-220-bcf658ed069d>\u001b[0m in \u001b[0;36m<module>\u001b[0;34m\u001b[0m\n\u001b[1;32m      8\u001b[0m \u001b[0;34m\u001b[0m\u001b[0m\n\u001b[1;32m      9\u001b[0m \u001b[0mmy_function\u001b[0m\u001b[0;34m(\u001b[0m\u001b[0;34m)\u001b[0m\u001b[0;34m\u001b[0m\u001b[0;34m\u001b[0m\u001b[0m\n\u001b[0;32m---> 10\u001b[0;31m \u001b[0mprint\u001b[0m\u001b[0;34m(\u001b[0m\u001b[0mvar2\u001b[0m\u001b[0;34m)\u001b[0m\u001b[0;34m\u001b[0m\u001b[0;34m\u001b[0m\u001b[0m\n\u001b[0m",
      "\u001b[0;31mNameError\u001b[0m: name 'var2' is not defined"
     ]
    }
   ],
   "source": [
    "#placement of variable declaration matters\n",
    "var1 = \"A\" # Global Scope -- can use everywhere\n",
    "\n",
    "def my_function():\n",
    "    print(var1)\n",
    "    var2 = \"B\" #Functions scope aka a local scope\n",
    "    print(var2)\n",
    "\n",
    "my_function()\n",
    "print(var2)"
   ]
  },
  {
   "cell_type": "code",
   "execution_count": null,
   "metadata": {
    "id": "Hs_vQ27ioWlt",
    "outputId": "7449c122-d7cb-4d3f-9419-da28bde63726"
   },
   "outputs": [
    {
     "name": "stdout",
     "output_type": "stream",
     "text": [
      "0\n",
      "1\n",
      "2\n"
     ]
    },
    {
     "data": {
      "text/plain": [
       "2"
      ]
     },
     "execution_count": 222,
     "metadata": {},
     "output_type": "execute_result"
    }
   ],
   "source": [
    "for i in range(3): #i here has global scope\n",
    "    print(i)\n",
    "    x = \"Steve\" # global Scope\n",
    "    \n",
    "i"
   ]
  },
  {
   "cell_type": "markdown",
   "metadata": {
    "id": "ifse-eeLoWlu"
   },
   "source": [
    "# Exercises"
   ]
  },
  {
   "cell_type": "markdown",
   "metadata": {
    "id": "kOJZ-CzdoWlu"
   },
   "source": [
    "## Exercise 1 <br>\n",
    "<p>Given a list as a parameter,write a function that returns a list of numbers that are less than ten</b></i></p><br>\n",
    "<p> For example: Say your input parameter to the function is [1,11,14,5,8,9]...Your output should [1,5,8,9]</p>"
   ]
  },
  {
   "cell_type": "code",
   "execution_count": null,
   "metadata": {
    "id": "P42n5mmCplvh"
   },
   "outputs": [],
   "source": []
  },
  {
   "cell_type": "code",
   "execution_count": 7,
   "metadata": {
    "id": "FyROJ9FroWlu"
   },
   "outputs": [
    {
     "name": "stdout",
     "output_type": "stream",
     "text": [
      "[1, 5, 8, 9]\n"
     ]
    }
   ],
   "source": [
    "my_list = [1,11,14,5,8,9]\n",
    "def my_func(my_list):\n",
    "    new_list = []\n",
    "    for i in my_list:\n",
    "        if i <10:\n",
    "            new_list.append(i)\n",
    "    return new_list\n",
    "\n",
    "print(my_func(my_list))    \n",
    "   \n",
    "\n",
    "\n",
    "\n"
   ]
  },
  {
   "cell_type": "markdown",
   "metadata": {
    "id": "vMOiEZXLoWlu"
   },
   "source": [
    "## Exercise 2 <br>\n",
    "<p>Write a function that takes in two lists and returns the two lists merged together and sorted<br>\n",
    "<b><i>Hint: You can use the .sort() method</i></b></p>"
   ]
  },
  {
   "cell_type": "code",
   "execution_count": 11,
   "metadata": {
    "id": "Ib_d9AcAoWlu"
   },
   "outputs": [
    {
     "name": "stdout",
     "output_type": "stream",
     "text": [
      "[1, 2, 3, 3, 4, 4, 4, 5, 6, 6, 7, 8, 9]\n"
     ]
    }
   ],
   "source": [
    "list1 = [1,2,3,4,5,4,3]\n",
    "list2 = [9,6,4,8,7,6]\n",
    "\n",
    "def my_lists():\n",
    "    new_list1 = list1 + list2\n",
    "    new_list1.sort()\n",
    "    return new_list1\n",
    "\n",
    "print(my_lists())\n",
    "\n",
    "\n",
    "    \n",
    "  "
   ]
  },
  {
   "cell_type": "code",
   "execution_count": null,
   "metadata": {},
   "outputs": [],
   "source": []
  }
 ],
 "metadata": {
  "colab": {
   "collapsed_sections": [
    "5j6vomwboWlZ",
    "x4HVpt53oWlk"
   ],
   "name": "Copy of Tuesday_Lecture_complete.ipynb",
   "provenance": [
    {
     "file_id": "13cLvh2iL-Yo4yzh-Qj1xOy6pHB30X7AK",
     "timestamp": 1633540998405
    }
   ]
  },
  "kernelspec": {
   "display_name": "Python 3",
   "language": "python",
   "name": "python3"
  },
  "language_info": {
   "codemirror_mode": {
    "name": "ipython",
    "version": 3
   },
   "file_extension": ".py",
   "mimetype": "text/x-python",
   "name": "python",
   "nbconvert_exporter": "python",
   "pygments_lexer": "ipython3",
   "version": "3.8.8"
  }
 },
 "nbformat": 4,
 "nbformat_minor": 1
}
